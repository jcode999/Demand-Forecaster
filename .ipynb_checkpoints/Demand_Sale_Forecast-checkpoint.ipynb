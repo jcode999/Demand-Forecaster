{
 "cells": [
  {
   "cell_type": "code",
   "execution_count": 159,
   "id": "4932b14c",
   "metadata": {},
   "outputs": [],
   "source": [
    "import pandas as pd\n",
    "import matplotlib.pyplot as plt\n",
    "import numpy as np\n",
    "\n",
    "def createRangeList(start, end):\n",
    "    return np.arange(start, end+1, 1)\n",
    "\n",
    "def getEmptyCells(data_frame,column_name):\n",
    "    nans = pd.isna(data_frame[column_name])\n",
    "    nan_indices = []\n",
    "    index_counter = 0\n",
    "    for nan in nans:\n",
    "        if nan == True:\n",
    "            nan_indices.append(index_counter)\n",
    "        index_counter = index_counter + 1\n",
    "    return nan_indices\n",
    "\n",
    "def weekly_sales_chart(scan_code,mean,week_frame,item_dict):\n",
    "    fig = plt.figure()\n",
    "    ax = fig.add_axes([0,0,1,1])\n",
    "    description = week_frame.loc[week_frame['Scan Code'] == scan_code]['Description'].unique()[0]\n",
    "    week =  [tuple[0] for tuple in item_dict[scan_code]]\n",
    "    qty = np.array([tuple[1] for tuple in item_dict[scan_code]])\n",
    "    total_sold = qty.sum()\n",
    "    ax.set_title(\"Weekly Sales Chart: \" + description)\n",
    "    ax.bar(week,qty)\n",
    "    plt.show()\n",
    "def weekly_sales_mean_chart(item_mean_list):\n",
    "    fig = plt.figure()\n",
    "    ax = fig.add_axes([0,0,1,1])\n",
    "    #description = week_frame.loc[week_frame['Scan Code'] == scan_code]['Description'].unique()[0]\n",
    "    item =  [tuple[0] for tuple in item_mean_list]\n",
    "    mean = np.array([tuple[1] for tuple in item_mean_list])\n",
    "    #total_sold = qty.sum()\n",
    "    #ax.set_title(\"Scan Code: \" + str(scan_code)+ \"  Description: \" + description + \"Sold : \"+ str(total_sold))\n",
    "    ax.bar(item,mean)\n",
    "    plt.show()\n",
    "def price_qty_chart(scan_code,week_frame,item_dict):\n",
    "    description = week_frame.loc[week_frame['Scan Code'] == scan_code]['Description'].unique()[0]\n",
    "    price =  [tuple[2] for tuple in item_dict[scan_code]]\n",
    "    qty = np.array([tuple[1] for tuple in item_dict[scan_code]])\n",
    "    plt.scatter(price, qty, label= \"stars\", color= \"m\",  \n",
    "            marker= \"*\", s=30) \n",
    "    plt.xlabel('x - axis')\n",
    "    plt.ylabel('y - axis') \n",
    "    plt.legend() \n",
    "    plt.show()\n",
    "def compare_weekly_sales(scan_code1,scan_code2,week_frame,item_dict):\n",
    "#     data = [[30, 25, 50, 20],\n",
    "#     [40, 23, 51, 17],\n",
    "#     [35, 22, 45, 19]]\n",
    "    prod_1 = np.array(int(tuple[1]) for tuple in item_dict[scan_code1])\n",
    "    reduced_prod_1 = prod_1[:15]\n",
    "    prod_2 = np.array(int(tuple[1]) for tuple in item_dict[scan_code2])\n",
    "    reduced_prod_2 = prod_2[:15]\n",
    "    width = 0.25\n",
    "    r = np.arange(52)\n",
    "    plt.bar(r, reduced_prod_1, color = 'b',\n",
    "        width = width, edgecolor = 'black',\n",
    "        label='Item1')\n",
    "    plt.bar(r + width, reduced_prod_2, color = 'g',\n",
    "        width = width, edgecolor = 'black',\n",
    "        label='Item2')\n",
    "    plt.xlabel(\"Week\")\n",
    "    plt.ylabel(\"Total Sales Per Week\")\n",
    "    plt.title(\"VS\")\n",
    "    plt.xticks(r + width/2,['1','2','3','4'])\n",
    "    plt.legend()\n",
    "    plt.show()\n",
    "def test():\n",
    "       \n",
    "    Women = [115, 215, 250, 200]\n",
    "    Men = [1, 3, 4, 2]\n",
    "\n",
    "    n=4\n",
    "    r = np.arange(n)\n",
    "    width = 0.25\n",
    "\n",
    "\n",
    "    plt.bar(r, Women, color = 'b',\n",
    "            width = width, edgecolor = 'black',\n",
    "            label='Women')\n",
    "    plt.bar(r + width, Men, color = 'g',\n",
    "            width = width, edgecolor = 'black',\n",
    "            label='Men')\n",
    "\n",
    "    plt.xlabel(\"Year\")\n",
    "    plt.ylabel(\"Number of people voted\")\n",
    "    plt.title(\"Number of people voted in each year\")\n",
    "\n",
    "    # plt.grid(linestyle='--')\n",
    "    plt.xticks(r + width/2,['2018','2019','2020','2021'])\n",
    "    plt.legend()\n",
    "\n",
    "    plt.show()\n"
   ]
  },
  {
   "cell_type": "code",
   "execution_count": 86,
   "id": "02683abe",
   "metadata": {},
   "outputs": [
    {
     "name": "stdout",
     "output_type": "stream",
     "text": [
      "Int64Index([ 19797,  21887,  36899,  40840,  41013,  53048,  54600,  61747,\n",
      "             65317,  69734,\n",
      "            ...\n",
      "            468348, 469883, 469985, 472534, 472544, 477456, 479179, 479222,\n",
      "            479600, 479616],\n",
      "           dtype='int64', length=116)\n",
      "Before removing nan scan codes :  (480070, 15)\n",
      "After removing NaN scan codes :  (452372, 15)\n"
     ]
    }
   ],
   "source": [
    "#the file contains transactional record starting 01/01/2022 to 29/12/2022\n",
    "df = pd.read_csv('Sale-Items.csv',dtype={'Scan Code':str})\n",
    "\n",
    "#remove all unidentified items except for gas and lotto online\n",
    "nan_scan_code = getEmptyCells(df,'Scan Code')\n",
    "for i in nan_scan_code:\n",
    "    #print(df['Description'][i])\n",
    "    if df['Department'][i] == 'GAS PUMP #1' or df['Department'][i] == 'GAS PUMP #2' or df['Department'][i] == 'GAS PUMP #3' or df['Department'][i] == 'GAS PUMP #4':\n",
    "        df.loc[df.index[i], 'Scan Code'] = '2235'\n",
    "    elif df['Department'][i] == 'LOTTO ONLINE':\n",
    "        df.loc[df.index[i], 'Scan Code'] = '2236'\n",
    "\n",
    "print(\"Before removing nan scan codes : \",df.shape)\n",
    "nan_scan_code = getEmptyCells(df,'Scan Code')\n",
    "\n",
    "#drop NaN values\n",
    "df.drop(index=nan_scan_code,axis=0,inplace=True)\n",
    "print(\"After removing NaN scan codes : \",df.shape)\n",
    "df.drop(columns=['Register','Unnamed: 14'],inplace=True)\n",
    "df.to_csv('demand_forecast.csv',index=False,index_label=False)\n"
   ]
  },
  {
   "cell_type": "code",
   "execution_count": 94,
   "id": "885f5bed",
   "metadata": {},
   "outputs": [
    {
     "name": "stdout",
     "output_type": "stream",
     "text": [
      "After removing numm zero costs :  (449036, 13)\n"
     ]
    },
    {
     "data": {
      "text/html": [
       "<div>\n",
       "<style scoped>\n",
       "    .dataframe tbody tr th:only-of-type {\n",
       "        vertical-align: middle;\n",
       "    }\n",
       "\n",
       "    .dataframe tbody tr th {\n",
       "        vertical-align: top;\n",
       "    }\n",
       "\n",
       "    .dataframe thead th {\n",
       "        text-align: right;\n",
       "    }\n",
       "</style>\n",
       "<table border=\"1\" class=\"dataframe\">\n",
       "  <thead>\n",
       "    <tr style=\"text-align: right;\">\n",
       "      <th></th>\n",
       "      <th>Date</th>\n",
       "      <th>Scan Code</th>\n",
       "      <th>Description</th>\n",
       "      <th>Department</th>\n",
       "      <th>Qty</th>\n",
       "      <th>POS Cost</th>\n",
       "      <th>POS Retail</th>\n",
       "    </tr>\n",
       "  </thead>\n",
       "  <tbody>\n",
       "    <tr>\n",
       "      <th>0</th>\n",
       "      <td>2022-01-01</td>\n",
       "      <td>008437625001</td>\n",
       "      <td>Black T Shirt</td>\n",
       "      <td>Miscs</td>\n",
       "      <td>13.0</td>\n",
       "      <td>9.99</td>\n",
       "      <td>9.990000</td>\n",
       "    </tr>\n",
       "    <tr>\n",
       "      <th>1</th>\n",
       "      <td>2022-01-01</td>\n",
       "      <td>008660000026</td>\n",
       "      <td>ZIG-ZAG PAPERS- 1 1/4</td>\n",
       "      <td>Cigar</td>\n",
       "      <td>1.0</td>\n",
       "      <td>1.50</td>\n",
       "      <td>2.790000</td>\n",
       "    </tr>\n",
       "    <tr>\n",
       "      <th>2</th>\n",
       "      <td>2022-01-01</td>\n",
       "      <td>008660000156</td>\n",
       "      <td>zigzag cone king</td>\n",
       "      <td>NOVELTY</td>\n",
       "      <td>4.0</td>\n",
       "      <td>1.03</td>\n",
       "      <td>1.990000</td>\n",
       "    </tr>\n",
       "    <tr>\n",
       "      <th>3</th>\n",
       "      <td>2022-01-01</td>\n",
       "      <td>008660000187</td>\n",
       "      <td>Zogzag Cone 11/4 A</td>\n",
       "      <td>NOVELTY</td>\n",
       "      <td>6.0</td>\n",
       "      <td>1.16</td>\n",
       "      <td>2.490000</td>\n",
       "    </tr>\n",
       "    <tr>\n",
       "      <th>4</th>\n",
       "      <td>2022-01-01</td>\n",
       "      <td>0105</td>\n",
       "      <td>Pink Bong</td>\n",
       "      <td>NOVELTY</td>\n",
       "      <td>1.0</td>\n",
       "      <td>14.50</td>\n",
       "      <td>34.990000</td>\n",
       "    </tr>\n",
       "    <tr>\n",
       "      <th>...</th>\n",
       "      <td>...</td>\n",
       "      <td>...</td>\n",
       "      <td>...</td>\n",
       "      <td>...</td>\n",
       "      <td>...</td>\n",
       "      <td>...</td>\n",
       "      <td>...</td>\n",
       "    </tr>\n",
       "    <tr>\n",
       "      <th>79183</th>\n",
       "      <td>2022-12-31</td>\n",
       "      <td>887725000429</td>\n",
       "      <td>electrolit passion fruit</td>\n",
       "      <td>SODA</td>\n",
       "      <td>1.0</td>\n",
       "      <td>2.00</td>\n",
       "      <td>3.490000</td>\n",
       "    </tr>\n",
       "    <tr>\n",
       "      <th>79184</th>\n",
       "      <td>2022-12-31</td>\n",
       "      <td>894135001175</td>\n",
       "      <td>GOOD STUFF P/TOB FULL FLA</td>\n",
       "      <td>TOBACCO</td>\n",
       "      <td>1.0</td>\n",
       "      <td>11.99</td>\n",
       "      <td>16.990000</td>\n",
       "    </tr>\n",
       "    <tr>\n",
       "      <th>79185</th>\n",
       "      <td>2022-12-31</td>\n",
       "      <td>895216001060</td>\n",
       "      <td>FOUR LOCO PEACH 24OZ CAN</td>\n",
       "      <td>BEER</td>\n",
       "      <td>4.0</td>\n",
       "      <td>2.53</td>\n",
       "      <td>3.463333</td>\n",
       "    </tr>\n",
       "    <tr>\n",
       "      <th>79186</th>\n",
       "      <td>2022-12-31</td>\n",
       "      <td>9097202112052</td>\n",
       "      <td>Cannabeast  Doobie Cookies</td>\n",
       "      <td>CBD</td>\n",
       "      <td>1.0</td>\n",
       "      <td>6.00</td>\n",
       "      <td>15.990000</td>\n",
       "    </tr>\n",
       "    <tr>\n",
       "      <th>79187</th>\n",
       "      <td>2022-12-31</td>\n",
       "      <td>9555755800043</td>\n",
       "      <td>Royal Honey</td>\n",
       "      <td>NOVELTY</td>\n",
       "      <td>5.0</td>\n",
       "      <td>3.50</td>\n",
       "      <td>8.990000</td>\n",
       "    </tr>\n",
       "  </tbody>\n",
       "</table>\n",
       "<p>79188 rows × 7 columns</p>\n",
       "</div>"
      ],
      "text/plain": [
       "            Date      Scan Code                 Description Department   Qty  \\\n",
       "0     2022-01-01   008437625001               Black T Shirt      Miscs  13.0   \n",
       "1     2022-01-01   008660000026       ZIG-ZAG PAPERS- 1 1/4      Cigar   1.0   \n",
       "2     2022-01-01   008660000156            zigzag cone king    NOVELTY   4.0   \n",
       "3     2022-01-01   008660000187          Zogzag Cone 11/4 A    NOVELTY   6.0   \n",
       "4     2022-01-01           0105                   Pink Bong    NOVELTY   1.0   \n",
       "...          ...            ...                         ...        ...   ...   \n",
       "79183 2022-12-31   887725000429    electrolit passion fruit       SODA   1.0   \n",
       "79184 2022-12-31   894135001175   GOOD STUFF P/TOB FULL FLA    TOBACCO   1.0   \n",
       "79185 2022-12-31   895216001060    FOUR LOCO PEACH 24OZ CAN       BEER   4.0   \n",
       "79186 2022-12-31  9097202112052  Cannabeast  Doobie Cookies        CBD   1.0   \n",
       "79187 2022-12-31  9555755800043                 Royal Honey    NOVELTY   5.0   \n",
       "\n",
       "       POS Cost  POS Retail  \n",
       "0          9.99    9.990000  \n",
       "1          1.50    2.790000  \n",
       "2          1.03    1.990000  \n",
       "3          1.16    2.490000  \n",
       "4         14.50   34.990000  \n",
       "...         ...         ...  \n",
       "79183      2.00    3.490000  \n",
       "79184     11.99   16.990000  \n",
       "79185      2.53    3.463333  \n",
       "79186      6.00   15.990000  \n",
       "79187      3.50    8.990000  \n",
       "\n",
       "[79188 rows x 7 columns]"
      ]
     },
     "execution_count": 94,
     "metadata": {},
     "output_type": "execute_result"
    }
   ],
   "source": [
    "df = pd.read_csv('demand_forecast.csv',low_memory=False)\n",
    "#remove items with POS Cost 0, except for Gas and Lotto Online, this is an outlier. Cost for an item is never zero\n",
    "zero_cost = df[df['POS Cost'] == 0].index\n",
    "for i in zero_cost:\n",
    "    if df['Department'][i] == 'GAS PUMP #1' or df['Department'][i] == 'GAS PUMP #2' or df['Department'][i] == 'GAS PUMP #3' or df['Department'][i] == 'GAS PUMP #4':\n",
    "        df.loc[df.index[i], 'POS Cost'] = df['POS Retail'][i] -  (0.2 * df['POS Retail'][i]) # mean profit is 20%. Consulted with owner. Mean used because actual gas price were not recorded by the owner\n",
    "    elif df['Department'][i] == 'LOTTO ONLINE' or df['Department'][i] == 'LOTTO SCRATCH OFF':\n",
    "        df.loc[df.index[i], 'POS Cost'] = df['POS Retail'][i] -  (0.05 * df['POS Retail'][i]) \n",
    "        \n",
    "zero_cost = df[df['POS Cost'] == 0].index\n",
    "df.drop(index=zero_cost,axis=0,inplace=True)\n",
    "print(\"After removing numm zero costs : \",df.shape)\n",
    "#convert to Date column to proper date format\n",
    "df['Date'] = pd.to_datetime(df['Date'])\n",
    "\n",
    "# group weekly [pd.Grouper(key='Date', freq='W'),\n",
    "# df['Week Number'] = df['Date'].dt.week\n",
    "\n",
    "#Find total number of sale quantity of each item per week, mean of Cost and Retail\n",
    "grp = df.groupby([pd.Grouper(key=\"Date\", freq=\"7D\",origin='2022-01-01'),'Scan Code','Description','Department']).agg({'Qty':'sum','POS Cost':'mean','POS Retail':'mean'})\n",
    "week_grp_lbl = grp.reset_index()\n",
    "\n",
    "week_grp_lbl.to_csv('demand_forecast_weekly.csv',index=False,index_label=False)\n",
    "week_grp_lbl"
   ]
  },
  {
   "cell_type": "code",
   "execution_count": 112,
   "id": "54efcde3",
   "metadata": {},
   "outputs": [],
   "source": [
    "#Exporatory Data analysis (MEAN,MEDIAN,STANDARD DEVIATION) for each item each week.\n",
    "#item wise weekly report\n",
    "\n",
    "item_dict = {}\n",
    "\n",
    "for item in week_grp_lbl['Scan Code']:\n",
    "   item_dict[item] = [(week, quantity,retail) for week, quantity, retail in week_grp_lbl.loc[week_grp_lbl['Scan Code'] == item, ['Date','Qty','POS Retail']].values]\n",
    "#unique items list\n",
    "items_list = week_grp_lbl['Scan Code'].unique()\n",
    "\n",
    "#departments table\n",
    "#dep_table = week_grp_lbl.groupby(['Scan Code','Department'])\n",
    "\n",
    "\n",
    "item_analysis_list = [] #collect item's weekly sale quantity's mean\n",
    "for item in items_list:\n",
    "#     week =  [tuple[0] for tuple in item_dict[item]]\n",
    "    qty_sold_per_week = np.array([tuple[1] for tuple in item_dict[item]])\n",
    "    mean = qty_sold_per_week.mean()#items total sales mean for a week\n",
    "    variance = qty_sold_per_week.var()\n",
    "    std_deviation = np.sqrt(variance)\n",
    "    item_analysis_list.append((item,mean,variance,std_deviation))\n",
    "\n",
    "sorted_list = sorted(item_mean_list, key=lambda x: x[1], reverse = True)\n",
    "\n"
   ]
  },
  {
   "cell_type": "code",
   "execution_count": 113,
   "id": "e9743d74",
   "metadata": {},
   "outputs": [
    {
     "data": {
      "image/png": "[encoded data removed]",
      "text/plain": [
       "<Figure size 640x480 with 1 Axes>"
      ]
     },
     "metadata": {},
     "output_type": "display_data"
    }
   ],
   "source": [
    "weekly_sales_mean_chart(item_mean_list)                                  "
   ]
  },
  {
   "cell_type": "code",
   "execution_count": 149,
   "id": "09bad0f6",
   "metadata": {},
   "outputs": [
    {
     "data": {
      "image/png": "[encoded data removed]",
      "text/plain": [
       "<Figure size 640x480 with 1 Axes>"
      ]
     },
     "metadata": {},
     "output_type": "display_data"
    }
   ],
   "source": [
    "weekly_sales_chart('818578014127',12,week_grp_lbl,item_dict)# popular cigar"
   ]
  },
  {
   "cell_type": "code",
   "execution_count": 137,
   "id": "846b89ef",
   "metadata": {},
   "outputs": [
    {
     "data": {
      "image/png": "[encoded data removed]",
      "text/plain": [
       "<Figure size 640x480 with 1 Axes>"
      ]
     },
     "metadata": {},
     "output_type": "display_data"
    }
   ],
   "source": [
    "price_qty_chart('895216001060',week_grp_lbl,item_dict)"
   ]
  },
  {
   "cell_type": "code",
   "execution_count": 160,
   "id": "92e57bf3",
   "metadata": {},
   "outputs": [
    {
     "ename": "TypeError",
     "evalue": "'int' object is not subscriptable",
     "output_type": "error",
     "traceback": [
      "\u001b[0;31m---------------------------------------------------------------------------\u001b[0m",
      "\u001b[0;31mTypeError\u001b[0m                                 Traceback (most recent call last)",
      "\u001b[0;32m/var/folders/mc/h4g1rpts05sfcpy_x6mpl5h80000gn/T/ipykernel_16840/1531852723.py\u001b[0m in \u001b[0;36m<module>\u001b[0;34m\u001b[0m\n\u001b[0;32m----> 1\u001b[0;31m \u001b[0mcompare_weekly_sales\u001b[0m\u001b[0;34m(\u001b[0m\u001b[0;34m'818578011966'\u001b[0m\u001b[0;34m,\u001b[0m\u001b[0;34m'818578014127'\u001b[0m\u001b[0;34m,\u001b[0m\u001b[0mweek_grp_lbl\u001b[0m\u001b[0;34m,\u001b[0m\u001b[0mitem_dict\u001b[0m\u001b[0;34m)\u001b[0m\u001b[0;34m\u001b[0m\u001b[0;34m\u001b[0m\u001b[0m\n\u001b[0m",
      "\u001b[0;32m/var/folders/mc/h4g1rpts05sfcpy_x6mpl5h80000gn/T/ipykernel_16840/2813418267.py\u001b[0m in \u001b[0;36mcompare_weekly_sales\u001b[0;34m(scan_code1, scan_code2, week_frame, item_dict)\u001b[0m\n\u001b[1;32m     51\u001b[0m \u001b[0;31m#     [35, 22, 45, 19]]\u001b[0m\u001b[0;34m\u001b[0m\u001b[0;34m\u001b[0m\u001b[0m\n\u001b[1;32m     52\u001b[0m     \u001b[0mprod_1\u001b[0m \u001b[0;34m=\u001b[0m \u001b[0mlist\u001b[0m\u001b[0;34m(\u001b[0m\u001b[0mint\u001b[0m\u001b[0;34m(\u001b[0m\u001b[0mtuple\u001b[0m\u001b[0;34m[\u001b[0m\u001b[0;36m1\u001b[0m\u001b[0;34m]\u001b[0m\u001b[0;34m)\u001b[0m \u001b[0;32mfor\u001b[0m \u001b[0mtuple\u001b[0m \u001b[0;32min\u001b[0m \u001b[0mitem_dict\u001b[0m\u001b[0;34m[\u001b[0m\u001b[0mscan_code1\u001b[0m\u001b[0;34m]\u001b[0m\u001b[0;34m)\u001b[0m\u001b[0;34m[\u001b[0m\u001b[0;34m:\u001b[0m\u001b[0;36m15\u001b[0m\u001b[0;34m]\u001b[0m\u001b[0;34m\u001b[0m\u001b[0;34m\u001b[0m\u001b[0m\n\u001b[0;32m---> 53\u001b[0;31m     \u001b[0mprint\u001b[0m\u001b[0;34m(\u001b[0m\u001b[0;34m\"Prod 1\"\u001b[0m\u001b[0;34m,\u001b[0m\u001b[0mprod_1\u001b[0m\u001b[0;34m[\u001b[0m\u001b[0;36m0\u001b[0m\u001b[0;34m]\u001b[0m\u001b[0;34m[\u001b[0m\u001b[0;36m1\u001b[0m\u001b[0;34m]\u001b[0m\u001b[0;34m)\u001b[0m\u001b[0;34m\u001b[0m\u001b[0;34m\u001b[0m\u001b[0m\n\u001b[0m\u001b[1;32m     54\u001b[0m     \u001b[0mprod_2\u001b[0m \u001b[0;34m=\u001b[0m \u001b[0mlist\u001b[0m\u001b[0;34m(\u001b[0m\u001b[0mint\u001b[0m\u001b[0;34m(\u001b[0m\u001b[0mtuple\u001b[0m\u001b[0;34m[\u001b[0m\u001b[0;36m1\u001b[0m\u001b[0;34m]\u001b[0m\u001b[0;34m)\u001b[0m \u001b[0;32mfor\u001b[0m \u001b[0mtuple\u001b[0m \u001b[0;32min\u001b[0m \u001b[0mitem_dict\u001b[0m\u001b[0;34m[\u001b[0m\u001b[0mscan_code2\u001b[0m\u001b[0;34m]\u001b[0m\u001b[0;34m)\u001b[0m\u001b[0;34m[\u001b[0m\u001b[0;34m:\u001b[0m\u001b[0;36m15\u001b[0m\u001b[0;34m]\u001b[0m\u001b[0;34m\u001b[0m\u001b[0;34m\u001b[0m\u001b[0m\n\u001b[1;32m     55\u001b[0m     \u001b[0mprint\u001b[0m\u001b[0;34m(\u001b[0m\u001b[0;34m\"Prod 2\"\u001b[0m\u001b[0;34m,\u001b[0m\u001b[0mprod_2\u001b[0m\u001b[0;34m[\u001b[0m\u001b[0;36m1\u001b[0m\u001b[0;34m]\u001b[0m\u001b[0;34m[\u001b[0m\u001b[0;36m0\u001b[0m\u001b[0;34m]\u001b[0m\u001b[0;34m)\u001b[0m\u001b[0;34m\u001b[0m\u001b[0;34m\u001b[0m\u001b[0m\n",
      "\u001b[0;31mTypeError\u001b[0m: 'int' object is not subscriptable"
     ]
    }
   ],
   "source": [
    "compare_weekly_sales('818578011966','818578014127',week_grp_lbl,item_dict)"
   ]
  },
  {
   "cell_type": "code",
   "execution_count": 143,
   "id": "12d09418",
   "metadata": {},
   "outputs": [
    {
     "data": {
      "image/png": "[encoded data removed]",
      "text/plain": [
       "<Figure size 640x480 with 1 Axes>"
      ]
     },
     "metadata": {},
     "output_type": "display_data"
    }
   ],
   "source": [
    "test()"
   ]
  },
  {
   "cell_type": "code",
   "execution_count": null,
   "id": "971235e4",
   "metadata": {},
   "outputs": [],
   "source": []
  }
 ],
 "metadata": {
  "kernelspec": {
   "display_name": "Python 3 (ipykernel)",
   "language": "python",
   "name": "python3"
  },
  "language_info": {
   "codemirror_mode": {
    "name": "ipython",
    "version": 3
   },
   "file_extension": ".py",
   "mimetype": "text/x-python",
   "name": "python",
   "nbconvert_exporter": "python",
   "pygments_lexer": "ipython3",
   "version": "3.9.13"
  }
 },
 "nbformat": 4,
 "nbformat_minor": 5
}
