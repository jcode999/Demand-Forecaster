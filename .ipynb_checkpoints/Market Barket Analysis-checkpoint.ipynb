{
 "cells": [
  {
   "cell_type": "markdown",
   "id": "a9364e88",
   "metadata": {},
   "source": [
    "support: \n",
    "S{item_set} = #transactions with item set/ #transaction\n",
    "\n",
    "confidence:\n",
    "Conf(A => C) = #txn with both A & c/# txn with A\n",
    "S({A,C})/S(A)\n",
    "\n",
    "\n",
    "lift:\n",
    "How much likely:\n",
    "\n",
    "L({A => C}) = S({A,C}) / S(C)*S(A)"
   ]
  },
  {
   "cell_type": "code",
   "execution_count": 2,
   "id": "36e79a8a",
   "metadata": {},
   "outputs": [],
   "source": [
    "from efficient_apriori import apriori\n",
    "import pandas as pd\n",
    "import numpy as np\n",
    "from utils.utils import clean_up"
   ]
  },
  {
   "cell_type": "code",
   "execution_count": null,
   "id": "baef9c37",
   "metadata": {},
   "outputs": [],
   "source": [
    "df = pd.read_csv('data/csv/original/sales2022.csv',dtype={'Scan Code':str})\n",
    "df = clean_up(df)"
   ]
  },
  {
   "cell_type": "code",
   "execution_count": null,
   "id": "12399671",
   "metadata": {},
   "outputs": [],
   "source": [
    "item_supports,rules = apriori.run()"
   ]
  }
 ],
 "metadata": {
  "kernelspec": {
   "display_name": "Python 3 (ipykernel)",
   "language": "python",
   "name": "python3"
  },
  "language_info": {
   "codemirror_mode": {
    "name": "ipython",
    "version": 3
   },
   "file_extension": ".py",
   "mimetype": "text/x-python",
   "name": "python",
   "nbconvert_exporter": "python",
   "pygments_lexer": "ipython3",
   "version": "3.9.13"
  }
 },
 "nbformat": 4,
 "nbformat_minor": 5
}
