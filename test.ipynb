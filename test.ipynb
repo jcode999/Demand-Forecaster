import pandas as pd
d = {'code':['123','456','123'],'qty':[1,2,3]}
df = pd.DataFrame(data=d)
